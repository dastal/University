{
 "cells": [
  {
   "cell_type": "code",
   "execution_count": 16,
   "metadata": {
    "colab": {
     "base_uri": "https://localhost:8080/"
    },
    "id": "UgM7VEXCdbTX",
    "outputId": "3e3d2df7-e03c-4aba-d3c9-1275ad0c49cf"
   },
   "outputs": [],
   "source": [
    "import pandas as pd\n",
    "import numpy as np\n",
    "import csv\n",
    "import re\n",
    "import string\n",
    "from collections import defaultdict\n",
    "#from google.colab import drive\n",
    "#drive.mount('/content/drive')"
   ]
  },
  {
   "cell_type": "code",
   "execution_count": 17,
   "metadata": {
    "id": "1BTTm7E7hz51"
   },
   "outputs": [],
   "source": [
    "url_train_dev = 'https://docs.google.com/spreadsheets/d/1KYIk6fyiTIXe0RkgqNuCvfNnsQtH6lp2fu9bBIorI1s/edit#gid=1591461788'\n",
    "\n",
    "#url_test = 'https://docs.google.com/spreadsheets/d/e/2PACX-1vT-KNR9nuYatLkSbzSRgpz6Ku1n4TN4w6kKmFLkA6QJHTfQzmX0puBsLF7PAAQJQAxUpgruDd_RRgK7/pub?gid=417546901&single=true&output=tsv'"
   ]
  },
  {
   "cell_type": "markdown",
   "metadata": {
    "id": "WEtmPp7epxEZ"
   },
   "source": [
    "# Load and inspect the data"
   ]
  },
  {
   "cell_type": "code",
   "execution_count": 33,
   "metadata": {
    "id": "5D8w9zd1c2IJ"
   },
   "outputs": [],
   "source": [
    "from io import StringIO\n",
    "import requests\n",
    "\n",
    "def load_dataset(url):\n",
    "    r = requests.get(url_train_dev)\n",
    "    data = r.content.decode('utf8')\n",
    "    print(data)\n",
    "    df = pd.read_csv(StringIO(data), sep='\\t')\n",
    "    df.columns = ['bug-id', 'bug', 'label']\n",
    "    return df"
   ]
  },
  {
   "cell_type": "code",
   "execution_count": 55,
   "metadata": {
    "colab": {
     "base_uri": "https://localhost:8080/"
    },
    "id": "foL-QtlJItoR",
    "outputId": "b234664a-b872-4ebc-ff31-f30a6b995cc1",
    "scrolled": true
   },
   "outputs": [
    {
     "name": "stderr",
     "output_type": "stream",
     "text": [
      "b'Skipping line 6: expected 3 fields, saw 4\\nSkipping line 22: expected 3 fields, saw 4\\nSkipping line 38: expected 3 fields, saw 4\\nSkipping line 58: expected 3 fields, saw 5\\nSkipping line 64: expected 3 fields, saw 5\\nSkipping line 94: expected 3 fields, saw 5\\nSkipping line 103: expected 3 fields, saw 4\\nSkipping line 117: expected 3 fields, saw 4\\nSkipping line 154: expected 3 fields, saw 5\\nSkipping line 181: expected 3 fields, saw 4\\nSkipping line 209: expected 3 fields, saw 4\\nSkipping line 214: expected 3 fields, saw 4\\nSkipping line 231: expected 3 fields, saw 4\\nSkipping line 244: expected 3 fields, saw 4\\nSkipping line 246: expected 3 fields, saw 4\\nSkipping line 289: expected 3 fields, saw 4\\nSkipping line 299: expected 3 fields, saw 4\\nSkipping line 323: expected 3 fields, saw 4\\nSkipping line 324: expected 3 fields, saw 4\\nSkipping line 329: expected 3 fields, saw 4\\nSkipping line 340: expected 3 fields, saw 4\\nSkipping line 355: expected 3 fields, saw 5\\nSkipping line 368: expected 3 fields, saw 4\\nSkipping line 371: expected 3 fields, saw 4\\nSkipping line 392: expected 3 fields, saw 4\\nSkipping line 394: expected 3 fields, saw 6\\nSkipping line 415: expected 3 fields, saw 5\\nSkipping line 441: expected 3 fields, saw 5\\nSkipping line 457: expected 3 fields, saw 4\\nSkipping line 476: expected 3 fields, saw 4\\nSkipping line 492: expected 3 fields, saw 4\\nSkipping line 537: expected 3 fields, saw 4\\nSkipping line 538: expected 3 fields, saw 4\\nSkipping line 556: expected 3 fields, saw 4\\nSkipping line 561: expected 3 fields, saw 4\\nSkipping line 594: expected 3 fields, saw 5\\nSkipping line 599: expected 3 fields, saw 4\\nSkipping line 636: expected 3 fields, saw 5\\nSkipping line 644: expected 3 fields, saw 4\\nSkipping line 650: expected 3 fields, saw 4\\nSkipping line 662: expected 3 fields, saw 5\\nSkipping line 686: expected 3 fields, saw 5\\nSkipping line 692: expected 3 fields, saw 4\\nSkipping line 703: expected 3 fields, saw 4\\nSkipping line 721: expected 3 fields, saw 5\\nSkipping line 772: expected 3 fields, saw 4\\nSkipping line 774: expected 3 fields, saw 4\\nSkipping line 776: expected 3 fields, saw 4\\nSkipping line 792: expected 3 fields, saw 7\\nSkipping line 800: expected 3 fields, saw 4\\nSkipping line 802: expected 3 fields, saw 8\\nSkipping line 808: expected 3 fields, saw 4\\nSkipping line 818: expected 3 fields, saw 4\\nSkipping line 821: expected 3 fields, saw 4\\nSkipping line 833: expected 3 fields, saw 5\\nSkipping line 838: expected 3 fields, saw 4\\nSkipping line 925: expected 3 fields, saw 4\\nSkipping line 947: expected 3 fields, saw 4\\nSkipping line 963: expected 3 fields, saw 5\\nSkipping line 967: expected 3 fields, saw 4\\nSkipping line 969: expected 3 fields, saw 5\\nSkipping line 999: expected 3 fields, saw 5\\nSkipping line 1024: expected 3 fields, saw 4\\nSkipping line 1030: expected 3 fields, saw 4\\nSkipping line 1034: expected 3 fields, saw 4\\nSkipping line 1079: expected 3 fields, saw 4\\nSkipping line 1092: expected 3 fields, saw 4\\nSkipping line 1096: expected 3 fields, saw 4\\nSkipping line 1103: expected 3 fields, saw 5\\nSkipping line 1112: expected 3 fields, saw 5\\nSkipping line 1123: expected 3 fields, saw 5\\nSkipping line 1150: expected 3 fields, saw 4\\nSkipping line 1155: expected 3 fields, saw 4\\nSkipping line 1167: expected 3 fields, saw 4\\nSkipping line 1171: expected 3 fields, saw 5\\nSkipping line 1176: expected 3 fields, saw 4\\nSkipping line 1183: expected 3 fields, saw 4\\nSkipping line 1186: expected 3 fields, saw 4\\nSkipping line 1192: expected 3 fields, saw 5\\nSkipping line 1194: expected 3 fields, saw 4\\nSkipping line 1206: expected 3 fields, saw 5\\nSkipping line 1208: expected 3 fields, saw 4\\nSkipping line 1219: expected 3 fields, saw 4\\nSkipping line 1236: expected 3 fields, saw 4\\nSkipping line 1242: expected 3 fields, saw 4\\nSkipping line 1250: expected 3 fields, saw 4\\nSkipping line 1258: expected 3 fields, saw 4\\nSkipping line 1259: expected 3 fields, saw 4\\nSkipping line 1264: expected 3 fields, saw 4\\nSkipping line 1268: expected 3 fields, saw 5\\nSkipping line 1272: expected 3 fields, saw 4\\nSkipping line 1280: expected 3 fields, saw 4\\nSkipping line 1284: expected 3 fields, saw 4\\nSkipping line 1290: expected 3 fields, saw 4\\nSkipping line 1296: expected 3 fields, saw 7\\nSkipping line 1301: expected 3 fields, saw 4\\nSkipping line 1333: expected 3 fields, saw 4\\nSkipping line 1352: expected 3 fields, saw 5\\nSkipping line 1380: expected 3 fields, saw 5\\nSkipping line 1404: expected 3 fields, saw 5\\nSkipping line 1406: expected 3 fields, saw 6\\nSkipping line 1439: expected 3 fields, saw 4\\nSkipping line 1446: expected 3 fields, saw 4\\nSkipping line 1448: expected 3 fields, saw 4\\nSkipping line 1453: expected 3 fields, saw 5\\nSkipping line 1458: expected 3 fields, saw 4\\nSkipping line 1462: expected 3 fields, saw 4\\nSkipping line 1466: expected 3 fields, saw 4\\nSkipping line 1488: expected 3 fields, saw 4\\nSkipping line 1501: expected 3 fields, saw 4\\nSkipping line 1503: expected 3 fields, saw 4\\nSkipping line 1519: expected 3 fields, saw 5\\nSkipping line 1527: expected 3 fields, saw 4\\nSkipping line 1529: expected 3 fields, saw 5\\nSkipping line 1532: expected 3 fields, saw 4\\nSkipping line 1533: expected 3 fields, saw 4\\nSkipping line 1539: expected 3 fields, saw 4\\nSkipping line 1546: expected 3 fields, saw 5\\nSkipping line 1547: expected 3 fields, saw 4\\nSkipping line 1550: expected 3 fields, saw 4\\nSkipping line 1569: expected 3 fields, saw 5\\nSkipping line 1592: expected 3 fields, saw 4\\nSkipping line 1608: expected 3 fields, saw 4\\nSkipping line 1660: expected 3 fields, saw 4\\nSkipping line 1686: expected 3 fields, saw 4\\nSkipping line 1690: expected 3 fields, saw 10\\nSkipping line 1704: expected 3 fields, saw 5\\nSkipping line 1712: expected 3 fields, saw 4\\nSkipping line 1715: expected 3 fields, saw 7\\nSkipping line 1716: expected 3 fields, saw 7\\nSkipping line 1728: expected 3 fields, saw 6\\nSkipping line 1732: expected 3 fields, saw 4\\nSkipping line 1751: expected 3 fields, saw 5\\nSkipping line 1755: expected 3 fields, saw 4\\nSkipping line 1762: expected 3 fields, saw 4\\nSkipping line 1767: expected 3 fields, saw 4\\nSkipping line 1768: expected 3 fields, saw 4\\nSkipping line 1775: expected 3 fields, saw 4\\nSkipping line 1778: expected 3 fields, saw 4\\nSkipping line 1783: expected 3 fields, saw 4\\nSkipping line 1788: expected 3 fields, saw 4\\nSkipping line 1811: expected 3 fields, saw 4\\nSkipping line 1848: expected 3 fields, saw 4\\nSkipping line 1849: expected 3 fields, saw 4\\nSkipping line 1854: expected 3 fields, saw 4\\nSkipping line 1858: expected 3 fields, saw 4\\nSkipping line 1861: expected 3 fields, saw 5\\nSkipping line 1864: expected 3 fields, saw 4\\nSkipping line 1870: expected 3 fields, saw 4\\nSkipping line 1874: expected 3 fields, saw 4\\nSkipping line 1875: expected 3 fields, saw 4\\nSkipping line 1876: expected 3 fields, saw 4\\nSkipping line 1880: expected 3 fields, saw 9\\nSkipping line 1909: expected 3 fields, saw 4\\nSkipping line 1914: expected 3 fields, saw 4\\nSkipping line 1918: expected 3 fields, saw 4\\nSkipping line 1936: expected 3 fields, saw 5\\nSkipping line 1944: expected 3 fields, saw 10\\nSkipping line 1947: expected 3 fields, saw 6\\nSkipping line 1954: expected 3 fields, saw 5\\nSkipping line 1956: expected 3 fields, saw 4\\nSkipping line 1959: expected 3 fields, saw 4\\nSkipping line 1988: expected 3 fields, saw 4\\nSkipping line 2007: expected 3 fields, saw 4\\nSkipping line 2030: expected 3 fields, saw 4\\nSkipping line 2033: expected 3 fields, saw 4\\nSkipping line 2037: expected 3 fields, saw 4\\nSkipping line 2056: expected 3 fields, saw 5\\nSkipping line 2066: expected 3 fields, saw 4\\nSkipping line 2080: expected 3 fields, saw 4\\nSkipping line 2087: expected 3 fields, saw 4\\nSkipping line 2101: expected 3 fields, saw 4\\nSkipping line 2184: expected 3 fields, saw 4\\nSkipping line 2193: expected 3 fields, saw 5\\nSkipping line 2195: expected 3 fields, saw 6\\nSkipping line 2196: expected 3 fields, saw 5\\nSkipping line 2211: expected 3 fields, saw 4\\nSkipping line 2225: expected 3 fields, saw 4\\nSkipping line 2229: expected 3 fields, saw 4\\nSkipping line 2239: expected 3 fields, saw 5\\nSkipping line 2246: expected 3 fields, saw 4\\nSkipping line 2248: expected 3 fields, saw 4\\nSkipping line 2270: expected 3 fields, saw 4\\nSkipping line 2284: expected 3 fields, saw 4\\nSkipping line 2334: expected 3 fields, saw 4\\nSkipping line 2352: expected 3 fields, saw 4\\nSkipping line 2376: expected 3 fields, saw 4\\nSkipping line 2382: expected 3 fields, saw 5\\nSkipping line 2404: expected 3 fields, saw 4\\nSkipping line 2407: expected 3 fields, saw 4\\nSkipping line 2430: expected 3 fields, saw 5\\nSkipping line 2433: expected 3 fields, saw 4\\nSkipping line 2463: expected 3 fields, saw 4\\nSkipping line 2467: expected 3 fields, saw 4\\nSkipping line 2478: expected 3 fields, saw 4\\nSkipping line 2512: expected 3 fields, saw 4\\nSkipping line 2526: expected 3 fields, saw 4\\nSkipping line 2569: expected 3 fields, saw 5\\nSkipping line 2582: expected 3 fields, saw 4\\nSkipping line 2588: expected 3 fields, saw 4\\nSkipping line 2602: expected 3 fields, saw 5\\nSkipping line 2629: expected 3 fields, saw 4\\nSkipping line 2636: expected 3 fields, saw 5\\nSkipping line 2654: expected 3 fields, saw 5\\nSkipping line 2658: expected 3 fields, saw 4\\nSkipping line 2662: expected 3 fields, saw 5\\nSkipping line 2702: expected 3 fields, saw 4\\nSkipping line 2719: expected 3 fields, saw 5\\nSkipping line 2739: expected 3 fields, saw 4\\nSkipping line 2755: expected 3 fields, saw 4\\nSkipping line 2792: expected 3 fields, saw 4\\nSkipping line 2800: expected 3 fields, saw 4\\nSkipping line 2801: expected 3 fields, saw 4\\nSkipping line 2817: expected 3 fields, saw 4\\nSkipping line 2829: expected 3 fields, saw 4\\nSkipping line 2831: expected 3 fields, saw 4\\nSkipping line 2843: expected 3 fields, saw 5\\nSkipping line 2893: expected 3 fields, saw 4\\nSkipping line 2932: expected 3 fields, saw 4\\nSkipping line 2941: expected 3 fields, saw 4\\nSkipping line 2946: expected 3 fields, saw 4\\nSkipping line 2953: expected 3 fields, saw 4\\nSkipping line 2991: expected 3 fields, saw 4\\nSkipping line 2999: expected 3 fields, saw 4\\nSkipping line 3000: expected 3 fields, saw 4\\nSkipping line 3009: expected 3 fields, saw 4\\nSkipping line 3015: expected 3 fields, saw 4\\nSkipping line 3022: expected 3 fields, saw 5\\nSkipping line 3037: expected 3 fields, saw 5\\nSkipping line 3068: expected 3 fields, saw 5\\nSkipping line 3100: expected 3 fields, saw 5\\nSkipping line 3104: expected 3 fields, saw 4\\nSkipping line 3121: expected 3 fields, saw 4\\nSkipping line 3126: expected 3 fields, saw 4\\nSkipping line 3149: expected 3 fields, saw 5\\nSkipping line 3154: expected 3 fields, saw 4\\nSkipping line 3159: expected 3 fields, saw 4\\nSkipping line 3173: expected 3 fields, saw 4\\nSkipping line 3174: expected 3 fields, saw 4\\nSkipping line 3193: expected 3 fields, saw 6\\nSkipping line 3198: expected 3 fields, saw 4\\nSkipping line 3206: expected 3 fields, saw 4\\nSkipping line 3224: expected 3 fields, saw 4\\nSkipping line 3236: expected 3 fields, saw 4\\nSkipping line 3237: expected 3 fields, saw 5\\nSkipping line 3238: expected 3 fields, saw 5\\nSkipping line 3255: expected 3 fields, saw 4\\nSkipping line 3276: expected 3 fields, saw 5\\nSkipping line 3305: expected 3 fields, saw 4\\nSkipping line 3330: expected 3 fields, saw 4\\nSkipping line 3334: expected 3 fields, saw 4\\nSkipping line 3349: expected 3 fields, saw 4\\nSkipping line 3352: expected 3 fields, saw 4\\nSkipping line 3376: expected 3 fields, saw 6\\nSkipping line 3398: expected 3 fields, saw 4\\nSkipping line 3428: expected 3 fields, saw 4\\nSkipping line 3442: expected 3 fields, saw 4\\nSkipping line 3449: expected 3 fields, saw 5\\nSkipping line 3466: expected 3 fields, saw 4\\nSkipping line 3477: expected 3 fields, saw 4\\nSkipping line 3486: expected 3 fields, saw 4\\nSkipping line 3500: expected 3 fields, saw 4\\nSkipping line 3507: expected 3 fields, saw 4\\nSkipping line 3514: expected 3 fields, saw 4\\nSkipping line 3526: expected 3 fields, saw 4\\nSkipping line 3533: expected 3 fields, saw 4\\nSkipping line 3543: expected 3 fields, saw 4\\nSkipping line 3559: expected 3 fields, saw 5\\nSkipping line 3575: expected 3 fields, saw 4\\nSkipping line 3614: expected 3 fields, saw 4\\nSkipping line 3618: expected 3 fields, saw 5\\nSkipping line 3642: expected 3 fields, saw 4\\nSkipping line 3648: expected 3 fields, saw 5\\nSkipping line 3656: expected 3 fields, saw 4\\nSkipping line 3691: expected 3 fields, saw 4\\nSkipping line 3714: expected 3 fields, saw 4\\nSkipping line 3740: expected 3 fields, saw 4\\nSkipping line 3741: expected 3 fields, saw 4\\nSkipping line 3757: expected 3 fields, saw 4\\nSkipping line 3758: expected 3 fields, saw 6\\nSkipping line 3762: expected 3 fields, saw 4\\nSkipping line 3772: expected 3 fields, saw 4\\nSkipping line 3779: expected 3 fields, saw 4\\nSkipping line 3800: expected 3 fields, saw 4\\nSkipping line 3821: expected 3 fields, saw 4\\nSkipping line 3870: expected 3 fields, saw 4\\nSkipping line 3900: expected 3 fields, saw 5\\nSkipping line 3905: expected 3 fields, saw 5\\nSkipping line 3915: expected 3 fields, saw 5\\nSkipping line 3932: expected 3 fields, saw 4\\nSkipping line 3936: expected 3 fields, saw 4\\nSkipping line 3952: expected 3 fields, saw 5\\nSkipping line 3973: expected 3 fields, saw 4\\nSkipping line 3975: expected 3 fields, saw 4\\nSkipping line 3979: expected 3 fields, saw 4\\nSkipping line 4001: expected 3 fields, saw 4\\nSkipping line 4022: expected 3 fields, saw 4\\nSkipping line 4047: expected 3 fields, saw 4\\nSkipping line 4111: expected 3 fields, saw 4\\nSkipping line 4114: expected 3 fields, saw 4\\nSkipping line 4142: expected 3 fields, saw 4\\nSkipping line 4171: expected 3 fields, saw 4\\nSkipping line 4178: expected 3 fields, saw 4\\nSkipping line 4232: expected 3 fields, saw 4\\nSkipping line 4239: expected 3 fields, saw 4\\nSkipping line 4240: expected 3 fields, saw 4\\nSkipping line 4274: expected 3 fields, saw 4\\nSkipping line 4318: expected 3 fields, saw 4\\nSkipping line 4365: expected 3 fields, saw 4\\nSkipping line 4366: expected 3 fields, saw 4\\nSkipping line 4380: expected 3 fields, saw 4\\nSkipping line 4392: expected 3 fields, saw 4\\nSkipping line 4395: expected 3 fields, saw 4\\nSkipping line 4401: expected 3 fields, saw 4\\nSkipping line 4427: expected 3 fields, saw 4\\nSkipping line 4446: expected 3 fields, saw 4\\nSkipping line 4453: expected 3 fields, saw 4\\nSkipping line 4456: expected 3 fields, saw 4\\nSkipping line 4459: expected 3 fields, saw 4\\nSkipping line 4507: expected 3 fields, saw 4\\nSkipping line 4530: expected 3 fields, saw 4\\nSkipping line 4533: expected 3 fields, saw 4\\nSkipping line 4561: expected 3 fields, saw 4\\nSkipping line 4576: expected 3 fields, saw 4\\nSkipping line 4581: expected 3 fields, saw 4\\nSkipping line 4595: expected 3 fields, saw 4\\nSkipping line 4596: expected 3 fields, saw 4\\nSkipping line 4600: expected 3 fields, saw 4\\nSkipping line 4609: expected 3 fields, saw 4\\nSkipping line 4614: expected 3 fields, saw 4\\nSkipping line 4616: expected 3 fields, saw 4\\nSkipping line 4617: expected 3 fields, saw 4\\nSkipping line 4631: expected 3 fields, saw 4\\nSkipping line 4645: expected 3 fields, saw 5\\nSkipping line 4649: expected 3 fields, saw 4\\nSkipping line 4655: expected 3 fields, saw 4\\nSkipping line 4661: expected 3 fields, saw 5\\nSkipping line 4689: expected 3 fields, saw 4\\nSkipping line 4694: expected 3 fields, saw 4\\nSkipping line 4699: expected 3 fields, saw 6\\nSkipping line 4716: expected 3 fields, saw 4\\nSkipping line 4739: expected 3 fields, saw 4\\nSkipping line 4746: expected 3 fields, saw 4\\nSkipping line 4792: expected 3 fields, saw 4\\nSkipping line 4795: expected 3 fields, saw 4\\nSkipping line 4814: expected 3 fields, saw 4\\nSkipping line 4823: expected 3 fields, saw 4\\nSkipping line 4829: expected 3 fields, saw 4\\nSkipping line 4868: expected 3 fields, saw 4\\nSkipping line 4884: expected 3 fields, saw 4\\nSkipping line 4892: expected 3 fields, saw 4\\nSkipping line 4914: expected 3 fields, saw 4\\nSkipping line 4916: expected 3 fields, saw 5\\nSkipping line 4956: expected 3 fields, saw 4\\nSkipping line 5068: expected 3 fields, saw 4\\nSkipping line 5077: expected 3 fields, saw 4\\nSkipping line 5082: expected 3 fields, saw 4\\nSkipping line 5102: expected 3 fields, saw 4\\nSkipping line 5112: expected 3 fields, saw 5\\nSkipping line 5147: expected 3 fields, saw 4\\nSkipping line 5164: expected 3 fields, saw 4\\nSkipping line 5170: expected 3 fields, saw 4\\nSkipping line 5179: expected 3 fields, saw 4\\nSkipping line 5207: expected 3 fields, saw 4\\nSkipping line 5254: expected 3 fields, saw 4\\nSkipping line 5257: expected 3 fields, saw 4\\nSkipping line 5263: expected 3 fields, saw 6\\nSkipping line 5273: expected 3 fields, saw 4\\nSkipping line 5277: expected 3 fields, saw 4\\nSkipping line 5280: expected 3 fields, saw 4\\nSkipping line 5308: expected 3 fields, saw 4\\nSkipping line 5326: expected 3 fields, saw 4\\nSkipping line 5360: expected 3 fields, saw 4\\nSkipping line 5375: expected 3 fields, saw 4\\nSkipping line 5394: expected 3 fields, saw 4\\nSkipping line 5403: expected 3 fields, saw 4\\nSkipping line 5420: expected 3 fields, saw 4\\nSkipping line 5429: expected 3 fields, saw 4\\nSkipping line 5439: expected 3 fields, saw 4\\nSkipping line 5447: expected 3 fields, saw 4\\nSkipping line 5455: expected 3 fields, saw 4\\nSkipping line 5464: expected 3 fields, saw 5\\nSkipping line 5503: expected 3 fields, saw 4\\nSkipping line 5510: expected 3 fields, saw 5\\nSkipping line 5515: expected 3 fields, saw 4\\nSkipping line 5521: expected 3 fields, saw 5\\nSkipping line 5549: expected 3 fields, saw 4\\nSkipping line 5552: expected 3 fields, saw 4\\nSkipping line 5574: expected 3 fields, saw 4\\nSkipping line 5579: expected 3 fields, saw 4\\nSkipping line 5583: expected 3 fields, saw 4\\nSkipping line 5598: expected 3 fields, saw 4\\nSkipping line 5600: expected 3 fields, saw 4\\nSkipping line 5608: expected 3 fields, saw 4\\nSkipping line 5614: expected 3 fields, saw 4\\nSkipping line 5632: expected 3 fields, saw 6\\nSkipping line 5645: expected 3 fields, saw 4\\nSkipping line 5667: expected 3 fields, saw 4\\nSkipping line 5671: expected 3 fields, saw 4\\nSkipping line 5678: expected 3 fields, saw 4\\nSkipping line 5706: expected 3 fields, saw 4\\nSkipping line 5710: expected 3 fields, saw 5\\nSkipping line 5716: expected 3 fields, saw 4\\nSkipping line 5729: expected 3 fields, saw 4\\nSkipping line 5731: expected 3 fields, saw 4\\nSkipping line 5747: expected 3 fields, saw 4\\nSkipping line 5749: expected 3 fields, saw 4\\nSkipping line 5752: expected 3 fields, saw 4\\nSkipping line 5760: expected 3 fields, saw 4\\nSkipping line 5764: expected 3 fields, saw 5\\nSkipping line 5785: expected 3 fields, saw 4\\nSkipping line 5820: expected 3 fields, saw 4\\nSkipping line 5835: expected 3 fields, saw 4\\nSkipping line 5836: expected 3 fields, saw 4\\nSkipping line 5837: expected 3 fields, saw 6\\nSkipping line 5838: expected 3 fields, saw 4\\nSkipping line 5848: expected 3 fields, saw 6\\nSkipping line 5851: expected 3 fields, saw 4\\nSkipping line 5860: expected 3 fields, saw 4\\nSkipping line 5892: expected 3 fields, saw 4\\nSkipping line 5923: expected 3 fields, saw 4\\nSkipping line 5933: expected 3 fields, saw 4\\nSkipping line 5937: expected 3 fields, saw 4\\nSkipping line 5956: expected 3 fields, saw 4\\nSkipping line 5963: expected 3 fields, saw 4\\nSkipping line 5971: expected 3 fields, saw 5\\nSkipping line 5988: expected 3 fields, saw 4\\nSkipping line 5989: expected 3 fields, saw 5\\nSkipping line 5992: expected 3 fields, saw 4\\nSkipping line 5994: expected 3 fields, saw 4\\nSkipping line 5999: expected 3 fields, saw 4\\nSkipping line 6013: expected 3 fields, saw 4\\nSkipping line 6065: expected 3 fields, saw 4\\nSkipping line 6076: expected 3 fields, saw 5\\nSkipping line 6099: expected 3 fields, saw 4\\nSkipping line 6125: expected 3 fields, saw 4\\nSkipping line 6133: expected 3 fields, saw 5\\nSkipping line 6144: expected 3 fields, saw 4\\nSkipping line 6202: expected 3 fields, saw 4\\nSkipping line 6205: expected 3 fields, saw 4\\nSkipping line 6228: expected 3 fields, saw 4\\nSkipping line 6239: expected 3 fields, saw 4\\nSkipping line 6250: expected 3 fields, saw 4\\nSkipping line 6288: expected 3 fields, saw 4\\nSkipping line 6307: expected 3 fields, saw 4\\nSkipping line 6313: expected 3 fields, saw 4\\nSkipping line 6323: expected 3 fields, saw 4\\nSkipping line 6401: expected 3 fields, saw 4\\nSkipping line 6413: expected 3 fields, saw 4\\nSkipping line 6415: expected 3 fields, saw 4\\nSkipping line 6418: expected 3 fields, saw 4\\nSkipping line 6424: expected 3 fields, saw 4\\nSkipping line 6461: expected 3 fields, saw 4\\nSkipping line 6466: expected 3 fields, saw 4\\nSkipping line 6502: expected 3 fields, saw 4\\nSkipping line 6509: expected 3 fields, saw 5\\nSkipping line 6571: expected 3 fields, saw 4\\nSkipping line 6677: expected 3 fields, saw 4\\nSkipping line 6701: expected 3 fields, saw 4\\nSkipping line 6749: expected 3 fields, saw 4\\nSkipping line 6761: expected 3 fields, saw 4\\nSkipping line 6777: expected 3 fields, saw 4\\nSkipping line 6800: expected 3 fields, saw 4\\nSkipping line 6807: expected 3 fields, saw 4\\nSkipping line 6829: expected 3 fields, saw 4\\nSkipping line 6833: expected 3 fields, saw 4\\nSkipping line 6846: expected 3 fields, saw 5\\nSkipping line 6848: expected 3 fields, saw 4\\nSkipping line 6864: expected 3 fields, saw 4\\nSkipping line 6874: expected 3 fields, saw 4\\nSkipping line 6881: expected 3 fields, saw 4\\nSkipping line 6891: expected 3 fields, saw 4\\nSkipping line 6905: expected 3 fields, saw 4\\nSkipping line 6907: expected 3 fields, saw 4\\nSkipping line 6973: expected 3 fields, saw 4\\nSkipping line 7016: expected 3 fields, saw 5\\nSkipping line 7021: expected 3 fields, saw 4\\nSkipping line 7048: expected 3 fields, saw 4\\nSkipping line 7094: expected 3 fields, saw 4\\nSkipping line 7109: expected 3 fields, saw 4\\nSkipping line 7110: expected 3 fields, saw 4\\nSkipping line 7120: expected 3 fields, saw 4\\nSkipping line 7124: expected 3 fields, saw 4\\nSkipping line 7166: expected 3 fields, saw 4\\nSkipping line 7171: expected 3 fields, saw 4\\nSkipping line 7235: expected 3 fields, saw 6\\nSkipping line 7249: expected 3 fields, saw 6\\nSkipping line 7271: expected 3 fields, saw 4\\nSkipping line 7277: expected 3 fields, saw 4\\nSkipping line 7287: expected 3 fields, saw 4\\nSkipping line 7304: expected 3 fields, saw 4\\nSkipping line 7324: expected 3 fields, saw 4\\nSkipping line 7356: expected 3 fields, saw 5\\nSkipping line 7357: expected 3 fields, saw 4\\nSkipping line 7358: expected 3 fields, saw 4\\nSkipping line 7360: expected 3 fields, saw 4\\nSkipping line 7372: expected 3 fields, saw 4\\nSkipping line 7386: expected 3 fields, saw 4\\nSkipping line 7392: expected 3 fields, saw 4\\nSkipping line 7405: expected 3 fields, saw 4\\nSkipping line 7426: expected 3 fields, saw 4\\nSkipping line 7460: expected 3 fields, saw 4\\nSkipping line 7472: expected 3 fields, saw 4\\nSkipping line 7481: expected 3 fields, saw 4\\nSkipping line 7484: expected 3 fields, saw 4\\nSkipping line 7486: expected 3 fields, saw 4\\nSkipping line 7496: expected 3 fields, saw 4\\nSkipping line 7574: expected 3 fields, saw 6\\nSkipping line 7578: expected 3 fields, saw 4\\nSkipping line 7587: expected 3 fields, saw 4\\nSkipping line 7604: expected 3 fields, saw 4\\nSkipping line 7623: expected 3 fields, saw 4\\nSkipping line 7639: expected 3 fields, saw 5\\nSkipping line 7642: expected 3 fields, saw 5\\nSkipping line 7671: expected 3 fields, saw 5\\nSkipping line 7736: expected 3 fields, saw 4\\nSkipping line 7754: expected 3 fields, saw 4\\nSkipping line 7762: expected 3 fields, saw 4\\nSkipping line 7765: expected 3 fields, saw 4\\nSkipping line 7771: expected 3 fields, saw 4\\nSkipping line 7781: expected 3 fields, saw 4\\nSkipping line 7795: expected 3 fields, saw 4\\nSkipping line 7801: expected 3 fields, saw 4\\nSkipping line 7831: expected 3 fields, saw 4\\nSkipping line 7844: expected 3 fields, saw 4\\nSkipping line 7860: expected 3 fields, saw 4\\nSkipping line 7872: expected 3 fields, saw 4\\nSkipping line 7886: expected 3 fields, saw 4\\nSkipping line 7894: expected 3 fields, saw 4\\nSkipping line 7974: expected 3 fields, saw 4\\nSkipping line 7990: expected 3 fields, saw 4\\nSkipping line 8002: expected 3 fields, saw 4\\nSkipping line 8021: expected 3 fields, saw 4\\nSkipping line 8024: expected 3 fields, saw 4\\nSkipping line 8029: expected 3 fields, saw 4\\nSkipping line 8031: expected 3 fields, saw 5\\nSkipping line 8043: expected 3 fields, saw 4\\nSkipping line 8045: expected 3 fields, saw 4\\nSkipping line 8054: expected 3 fields, saw 4\\nSkipping line 8064: expected 3 fields, saw 4\\nSkipping line 8067: expected 3 fields, saw 4\\nSkipping line 8068: expected 3 fields, saw 4\\nSkipping line 8072: expected 3 fields, saw 5\\nSkipping line 8177: expected 3 fields, saw 4\\nSkipping line 8183: expected 3 fields, saw 4\\nSkipping line 8184: expected 3 fields, saw 4\\nSkipping line 8189: expected 3 fields, saw 4\\nSkipping line 8222: expected 3 fields, saw 4\\nSkipping line 8233: expected 3 fields, saw 4\\nSkipping line 8264: expected 3 fields, saw 4\\nSkipping line 8273: expected 3 fields, saw 4\\nSkipping line 8316: expected 3 fields, saw 4\\nSkipping line 8342: expected 3 fields, saw 4\\nSkipping line 8366: expected 3 fields, saw 4\\nSkipping line 8419: expected 3 fields, saw 4\\nSkipping line 8421: expected 3 fields, saw 4\\nSkipping line 8435: expected 3 fields, saw 4\\nSkipping line 8449: expected 3 fields, saw 4\\nSkipping line 8487: expected 3 fields, saw 5\\nSkipping line 8514: expected 3 fields, saw 4\\nSkipping line 8533: expected 3 fields, saw 4\\nSkipping line 8587: expected 3 fields, saw 4\\nSkipping line 8630: expected 3 fields, saw 4\\nSkipping line 8655: expected 3 fields, saw 4\\nSkipping line 8670: expected 3 fields, saw 5\\nSkipping line 8674: expected 3 fields, saw 4\\nSkipping line 8677: expected 3 fields, saw 4\\nSkipping line 8682: expected 3 fields, saw 4\\nSkipping line 8684: expected 3 fields, saw 4\\nSkipping line 8686: expected 3 fields, saw 4\\nSkipping line 8749: expected 3 fields, saw 5\\nSkipping line 8750: expected 3 fields, saw 5\\nSkipping line 8751: expected 3 fields, saw 6\\nSkipping line 8760: expected 3 fields, saw 5\\nSkipping line 8772: expected 3 fields, saw 4\\nSkipping line 8774: expected 3 fields, saw 5\\nSkipping line 8791: expected 3 fields, saw 5\\nSkipping line 8795: expected 3 fields, saw 5\\nSkipping line 8800: expected 3 fields, saw 4\\nSkipping line 8807: expected 3 fields, saw 5\\nSkipping line 8832: expected 3 fields, saw 4\\nSkipping line 8833: expected 3 fields, saw 4\\nSkipping line 8834: expected 3 fields, saw 4\\nSkipping line 8863: expected 3 fields, saw 4\\nSkipping line 8868: expected 3 fields, saw 4\\nSkipping line 8883: expected 3 fields, saw 4\\nSkipping line 8926: expected 3 fields, saw 4\\nSkipping line 8928: expected 3 fields, saw 4\\nSkipping line 8933: expected 3 fields, saw 4\\nSkipping line 8937: expected 3 fields, saw 4\\nSkipping line 8942: expected 3 fields, saw 4\\nSkipping line 8946: expected 3 fields, saw 5\\nSkipping line 8949: expected 3 fields, saw 4\\nSkipping line 8952: expected 3 fields, saw 4\\nSkipping line 8958: expected 3 fields, saw 4\\nSkipping line 8965: expected 3 fields, saw 4\\nSkipping line 8973: expected 3 fields, saw 4\\nSkipping line 8986: expected 3 fields, saw 4\\nSkipping line 8997: expected 3 fields, saw 4\\nSkipping line 9013: expected 3 fields, saw 5\\nSkipping line 9018: expected 3 fields, saw 4\\nSkipping line 9031: expected 3 fields, saw 4\\nSkipping line 9038: expected 3 fields, saw 4\\nSkipping line 9068: expected 3 fields, saw 5\\nSkipping line 9109: expected 3 fields, saw 4\\nSkipping line 9130: expected 3 fields, saw 4\\nSkipping line 9135: expected 3 fields, saw 4\\nSkipping line 9137: expected 3 fields, saw 4\\nSkipping line 9157: expected 3 fields, saw 4\\nSkipping line 9179: expected 3 fields, saw 5\\nSkipping line 9194: expected 3 fields, saw 4\\nSkipping line 9199: expected 3 fields, saw 4\\nSkipping line 9213: expected 3 fields, saw 4\\nSkipping line 9224: expected 3 fields, saw 4\\nSkipping line 9243: expected 3 fields, saw 4\\nSkipping line 9262: expected 3 fields, saw 4\\nSkipping line 9270: expected 3 fields, saw 4\\nSkipping line 9293: expected 3 fields, saw 4\\nSkipping line 9311: expected 3 fields, saw 5\\nSkipping line 9322: expected 3 fields, saw 4\\nSkipping line 9323: expected 3 fields, saw 4\\nSkipping line 9345: expected 3 fields, saw 4\\nSkipping line 9360: expected 3 fields, saw 4\\nSkipping line 9374: expected 3 fields, saw 4\\nSkipping line 9375: expected 3 fields, saw 4\\nSkipping line 9376: expected 3 fields, saw 4\\nSkipping line 9383: expected 3 fields, saw 4\\nSkipping line 9390: expected 3 fields, saw 4\\nSkipping line 9394: expected 3 fields, saw 4\\nSkipping line 9409: expected 3 fields, saw 4\\nSkipping line 9421: expected 3 fields, saw 4\\nSkipping line 9469: expected 3 fields, saw 5\\nSkipping line 9475: expected 3 fields, saw 4\\nSkipping line 9482: expected 3 fields, saw 4\\nSkipping line 9487: expected 3 fields, saw 4\\nSkipping line 9489: expected 3 fields, saw 4\\nSkipping line 9494: expected 3 fields, saw 6\\nSkipping line 9496: expected 3 fields, saw 4\\nSkipping line 9513: expected 3 fields, saw 4\\nSkipping line 9518: expected 3 fields, saw 4\\nSkipping line 9520: expected 3 fields, saw 4\\nSkipping line 9522: expected 3 fields, saw 4\\nSkipping line 9544: expected 3 fields, saw 5\\nSkipping line 9546: expected 3 fields, saw 4\\nSkipping line 9548: expected 3 fields, saw 4\\nSkipping line 9557: expected 3 fields, saw 4\\nSkipping line 9558: expected 3 fields, saw 4\\nSkipping line 9571: expected 3 fields, saw 4\\nSkipping line 9581: expected 3 fields, saw 4\\nSkipping line 9582: expected 3 fields, saw 4\\nSkipping line 9583: expected 3 fields, saw 5\\nSkipping line 9615: expected 3 fields, saw 5\\nSkipping line 9617: expected 3 fields, saw 6\\nSkipping line 9620: expected 3 fields, saw 5\\nSkipping line 9622: expected 3 fields, saw 5\\nSkipping line 9632: expected 3 fields, saw 4\\nSkipping line 9634: expected 3 fields, saw 4\\nSkipping line 9636: expected 3 fields, saw 4\\nSkipping line 9643: expected 3 fields, saw 4\\nSkipping line 9650: expected 3 fields, saw 4\\nSkipping line 9651: expected 3 fields, saw 4\\nSkipping line 9656: expected 3 fields, saw 4\\nSkipping line 9683: expected 3 fields, saw 4\\nSkipping line 9699: expected 3 fields, saw 4\\nSkipping line 9704: expected 3 fields, saw 4\\nSkipping line 9717: expected 3 fields, saw 5\\nSkipping line 9734: expected 3 fields, saw 4\\nSkipping line 9748: expected 3 fields, saw 4\\nSkipping line 9749: expected 3 fields, saw 4\\nSkipping line 9751: expected 3 fields, saw 4\\nSkipping line 9776: expected 3 fields, saw 4\\nSkipping line 9807: expected 3 fields, saw 4\\nSkipping line 9811: expected 3 fields, saw 5\\nSkipping line 9835: expected 3 fields, saw 4\\nSkipping line 9841: expected 3 fields, saw 4\\nSkipping line 9854: expected 3 fields, saw 4\\nSkipping line 9859: expected 3 fields, saw 6\\nSkipping line 9868: expected 3 fields, saw 5\\nSkipping line 9877: expected 3 fields, saw 4\\nSkipping line 9895: expected 3 fields, saw 4\\nSkipping line 9898: expected 3 fields, saw 4\\nSkipping line 9902: expected 3 fields, saw 4\\nSkipping line 9918: expected 3 fields, saw 4\\nSkipping line 9930: expected 3 fields, saw 4\\nSkipping line 9938: expected 3 fields, saw 5\\nSkipping line 9942: expected 3 fields, saw 4\\nSkipping line 9944: expected 3 fields, saw 4\\nSkipping line 9952: expected 3 fields, saw 4\\nSkipping line 9953: expected 3 fields, saw 4\\nSkipping line 9958: expected 3 fields, saw 4\\nSkipping line 9962: expected 3 fields, saw 4\\nSkipping line 9973: expected 3 fields, saw 4\\nSkipping line 9977: expected 3 fields, saw 4\\nSkipping line 9986: expected 3 fields, saw 4\\nSkipping line 9991: expected 3 fields, saw 4\\nSkipping line 10002: expected 3 fields, saw 5\\nSkipping line 10019: expected 3 fields, saw 4\\nSkipping line 10021: expected 3 fields, saw 4\\nSkipping line 10024: expected 3 fields, saw 4\\nSkipping line 10028: expected 3 fields, saw 4\\nSkipping line 10040: expected 3 fields, saw 4\\nSkipping line 10046: expected 3 fields, saw 4\\nSkipping line 10047: expected 3 fields, saw 4\\nSkipping line 10051: expected 3 fields, saw 4\\nSkipping line 10059: expected 3 fields, saw 4\\nSkipping line 10073: expected 3 fields, saw 4\\nSkipping line 10134: expected 3 fields, saw 4\\nSkipping line 10135: expected 3 fields, saw 4\\nSkipping line 10200: expected 3 fields, saw 4\\nSkipping line 10237: expected 3 fields, saw 4\\nSkipping line 10244: expected 3 fields, saw 4\\nSkipping line 10265: expected 3 fields, saw 6\\nSkipping line 10275: expected 3 fields, saw 4\\nSkipping line 10277: expected 3 fields, saw 4\\nSkipping line 10278: expected 3 fields, saw 4\\nSkipping line 10298: expected 3 fields, saw 4\\nSkipping line 10299: expected 3 fields, saw 4\\nSkipping line 10310: expected 3 fields, saw 4\\nSkipping line 10328: expected 3 fields, saw 4\\nSkipping line 10359: expected 3 fields, saw 5\\nSkipping line 10399: expected 3 fields, saw 4\\nSkipping line 10403: expected 3 fields, saw 5\\nSkipping line 10410: expected 3 fields, saw 4\\nSkipping line 10414: expected 3 fields, saw 4\\nSkipping line 10416: expected 3 fields, saw 4\\nSkipping line 10432: expected 3 fields, saw 5\\nSkipping line 10435: expected 3 fields, saw 5\\nSkipping line 10451: expected 3 fields, saw 4\\nSkipping line 10456: expected 3 fields, saw 4\\nSkipping line 10471: expected 3 fields, saw 4\\nSkipping line 10482: expected 3 fields, saw 4\\nSkipping line 10485: expected 3 fields, saw 4\\nSkipping line 10489: expected 3 fields, saw 4\\nSkipping line 10494: expected 3 fields, saw 4\\nSkipping line 10504: expected 3 fields, saw 4\\nSkipping line 10535: expected 3 fields, saw 4\\nSkipping line 10545: expected 3 fields, saw 5\\nSkipping line 10561: expected 3 fields, saw 4\\nSkipping line 10579: expected 3 fields, saw 4\\nSkipping line 10589: expected 3 fields, saw 6\\nSkipping line 10590: expected 3 fields, saw 4\\nSkipping line 10592: expected 3 fields, saw 4\\nSkipping line 10594: expected 3 fields, saw 4\\nSkipping line 10608: expected 3 fields, saw 5\\nSkipping line 10612: expected 3 fields, saw 4\\nSkipping line 10617: expected 3 fields, saw 4\\nSkipping line 10618: expected 3 fields, saw 5\\nSkipping line 10638: expected 3 fields, saw 4\\nSkipping line 10661: expected 3 fields, saw 5\\nSkipping line 10662: expected 3 fields, saw 5\\nSkipping line 10681: expected 3 fields, saw 4\\nSkipping line 10718: expected 3 fields, saw 4\\nSkipping line 10751: expected 3 fields, saw 4\\nSkipping line 10768: expected 3 fields, saw 4\\nSkipping line 10771: expected 3 fields, saw 4\\nSkipping line 10776: expected 3 fields, saw 4\\nSkipping line 10789: expected 3 fields, saw 4\\nSkipping line 10794: expected 3 fields, saw 4\\nSkipping line 10801: expected 3 fields, saw 4\\nSkipping line 10816: expected 3 fields, saw 4\\nSkipping line 10831: expected 3 fields, saw 4\\nSkipping line 10835: expected 3 fields, saw 4\\nSkipping line 10840: expected 3 fields, saw 4\\nSkipping line 10843: expected 3 fields, saw 4\\nSkipping line 10848: expected 3 fields, saw 5\\nSkipping line 10855: expected 3 fields, saw 4\\nSkipping line 10867: expected 3 fields, saw 4\\nSkipping line 10876: expected 3 fields, saw 5\\nSkipping line 10877: expected 3 fields, saw 4\\nSkipping line 10913: expected 3 fields, saw 4\\nSkipping line 10914: expected 3 fields, saw 4\\nSkipping line 10918: expected 3 fields, saw 4\\nSkipping line 10921: expected 3 fields, saw 4\\nSkipping line 10925: expected 3 fields, saw 4\\nSkipping line 10926: expected 3 fields, saw 4\\nSkipping line 10931: expected 3 fields, saw 4\\nSkipping line 10955: expected 3 fields, saw 4\\nSkipping line 10963: expected 3 fields, saw 4\\nSkipping line 10967: expected 3 fields, saw 4\\nSkipping line 10998: expected 3 fields, saw 4\\nSkipping line 11006: expected 3 fields, saw 4\\nSkipping line 11007: expected 3 fields, saw 4\\nSkipping line 11027: expected 3 fields, saw 4\\nSkipping line 11032: expected 3 fields, saw 4\\nSkipping line 11034: expected 3 fields, saw 5\\nSkipping line 11039: expected 3 fields, saw 4\\nSkipping line 11040: expected 3 fields, saw 4\\nSkipping line 11042: expected 3 fields, saw 4\\nSkipping line 11049: expected 3 fields, saw 4\\nSkipping line 11056: expected 3 fields, saw 4\\nSkipping line 11062: expected 3 fields, saw 4\\nSkipping line 11069: expected 3 fields, saw 4\\nSkipping line 11071: expected 3 fields, saw 4\\nSkipping line 11106: expected 3 fields, saw 4\\nSkipping line 11122: expected 3 fields, saw 4\\nSkipping line 11152: expected 3 fields, saw 4\\nSkipping line 11153: expected 3 fields, saw 4\\nSkipping line 11189: expected 3 fields, saw 4\\nSkipping line 11233: expected 3 fields, saw 4\\nSkipping line 11234: expected 3 fields, saw 4\\nSkipping line 11242: expected 3 fields, saw 4\\nSkipping line 11258: expected 3 fields, saw 4\\nSkipping line 11263: expected 3 fields, saw 4\\nSkipping line 11264: expected 3 fields, saw 4\\nSkipping line 11294: expected 3 fields, saw 4\\nSkipping line 11308: expected 3 fields, saw 4\\nSkipping line 11333: expected 3 fields, saw 4\\nSkipping line 11352: expected 3 fields, saw 4\\nSkipping line 11362: expected 3 fields, saw 4\\nSkipping line 11363: expected 3 fields, saw 4\\nSkipping line 11364: expected 3 fields, saw 4\\nSkipping line 11384: expected 3 fields, saw 4\\nSkipping line 11393: expected 3 fields, saw 4\\nSkipping line 11394: expected 3 fields, saw 4\\nSkipping line 11395: expected 3 fields, saw 4\\nSkipping line 11399: expected 3 fields, saw 4\\nSkipping line 11400: expected 3 fields, saw 4\\nSkipping line 11401: expected 3 fields, saw 4\\nSkipping line 11402: expected 3 fields, saw 4\\nSkipping line 11405: expected 3 fields, saw 4\\nSkipping line 11414: expected 3 fields, saw 5\\nSkipping line 11438: expected 3 fields, saw 4\\nSkipping line 11465: expected 3 fields, saw 4\\nSkipping line 11468: expected 3 fields, saw 4\\nSkipping line 11471: expected 3 fields, saw 4\\nSkipping line 11476: expected 3 fields, saw 4\\nSkipping line 11479: expected 3 fields, saw 5\\nSkipping line 11492: expected 3 fields, saw 4\\nSkipping line 11495: expected 3 fields, saw 4\\nSkipping line 11496: expected 3 fields, saw 6\\nSkipping line 11521: expected 3 fields, saw 4\\nSkipping line 11532: expected 3 fields, saw 4\\nSkipping line 11534: expected 3 fields, saw 4\\nSkipping line 11541: expected 3 fields, saw 4\\nSkipping line 11574: expected 3 fields, saw 4\\nSkipping line 11594: expected 3 fields, saw 4\\nSkipping line 11617: expected 3 fields, saw 5\\nSkipping line 11619: expected 3 fields, saw 4\\nSkipping line 11653: expected 3 fields, saw 4\\nSkipping line 11659: expected 3 fields, saw 4\\nSkipping line 11664: expected 3 fields, saw 4\\nSkipping line 11665: expected 3 fields, saw 4\\nSkipping line 11671: expected 3 fields, saw 4\\nSkipping line 11675: expected 3 fields, saw 4\\nSkipping line 11680: expected 3 fields, saw 4\\nSkipping line 11693: expected 3 fields, saw 6\\nSkipping line 11766: expected 3 fields, saw 4\\nSkipping line 11798: expected 3 fields, saw 6\\nSkipping line 11815: expected 3 fields, saw 4\\nSkipping line 11817: expected 3 fields, saw 4\\nSkipping line 11821: expected 3 fields, saw 5\\nSkipping line 11823: expected 3 fields, saw 4\\nSkipping line 11824: expected 3 fields, saw 4\\nSkipping line 11853: expected 3 fields, saw 4\\nSkipping line 11854: expected 3 fields, saw 4\\nSkipping line 11856: expected 3 fields, saw 4\\nSkipping line 11868: expected 3 fields, saw 4\\nSkipping line 11875: expected 3 fields, saw 4\\nSkipping line 11877: expected 3 fields, saw 4\\nSkipping line 11879: expected 3 fields, saw 5\\nSkipping line 11916: expected 3 fields, saw 4\\nSkipping line 11977: expected 3 fields, saw 4\\nSkipping line 11993: expected 3 fields, saw 4\\nSkipping line 12019: expected 3 fields, saw 5\\nSkipping line 12038: expected 3 fields, saw 4\\nSkipping line 12042: expected 3 fields, saw 4\\nSkipping line 12130: expected 3 fields, saw 4\\nSkipping line 12193: expected 3 fields, saw 4\\nSkipping line 12197: expected 3 fields, saw 5\\nSkipping line 12207: expected 3 fields, saw 4\\nSkipping line 12214: expected 3 fields, saw 4\\nSkipping line 12247: expected 3 fields, saw 5\\nSkipping line 12252: expected 3 fields, saw 4\\nSkipping line 12262: expected 3 fields, saw 7\\nSkipping line 12277: expected 3 fields, saw 4\\nSkipping line 12279: expected 3 fields, saw 4\\nSkipping line 12353: expected 3 fields, saw 4\\nSkipping line 12418: expected 3 fields, saw 5\\nSkipping line 12427: expected 3 fields, saw 4\\nSkipping line 12428: expected 3 fields, saw 4\\nSkipping line 12441: expected 3 fields, saw 4\\nSkipping line 12442: expected 3 fields, saw 4\\nSkipping line 12503: expected 3 fields, saw 4\\nSkipping line 12577: expected 3 fields, saw 4\\nSkipping line 12578: expected 3 fields, saw 5\\nSkipping line 12582: expected 3 fields, saw 5\\nSkipping line 12616: expected 3 fields, saw 5\\nSkipping line 12653: expected 3 fields, saw 5\\nSkipping line 12659: expected 3 fields, saw 4\\nSkipping line 12669: expected 3 fields, saw 5\\nSkipping line 12678: expected 3 fields, saw 4\\nSkipping line 12701: expected 3 fields, saw 4\\nSkipping line 12710: expected 3 fields, saw 4\\nSkipping line 12722: expected 3 fields, saw 4\\nSkipping line 12729: expected 3 fields, saw 4\\nSkipping line 12730: expected 3 fields, saw 4\\nSkipping line 12743: expected 3 fields, saw 4\\nSkipping line 12768: expected 3 fields, saw 4\\nSkipping line 12808: expected 3 fields, saw 5\\nSkipping line 12850: expected 3 fields, saw 4\\nSkipping line 12865: expected 3 fields, saw 4\\nSkipping line 12908: expected 3 fields, saw 4\\nSkipping line 12965: expected 3 fields, saw 5\\nSkipping line 12970: expected 3 fields, saw 4\\nSkipping line 12971: expected 3 fields, saw 4\\nSkipping line 12994: expected 3 fields, saw 4\\nSkipping line 12995: expected 3 fields, saw 4\\n'\n"
     ]
    },
    {
     "ename": "UnicodeDecodeError",
     "evalue": "'utf-8' codec can't decode byte 0x89 in position 65: invalid start byte",
     "output_type": "error",
     "traceback": [
      "\u001b[1;31m---------------------------------------------------------------------------\u001b[0m",
      "\u001b[1;31mUnicodeDecodeError\u001b[0m                        Traceback (most recent call last)",
      "\u001b[1;32mpandas\\_libs\\parsers.pyx\u001b[0m in \u001b[0;36mpandas._libs.parsers.TextReader._convert_tokens\u001b[1;34m()\u001b[0m\n",
      "\u001b[1;32mpandas\\_libs\\parsers.pyx\u001b[0m in \u001b[0;36mpandas._libs.parsers.TextReader._convert_with_dtype\u001b[1;34m()\u001b[0m\n",
      "\u001b[1;32mpandas\\_libs\\parsers.pyx\u001b[0m in \u001b[0;36mpandas._libs.parsers.TextReader._string_convert\u001b[1;34m()\u001b[0m\n",
      "\u001b[1;32mpandas\\_libs\\parsers.pyx\u001b[0m in \u001b[0;36mpandas._libs.parsers._string_box_utf8\u001b[1;34m()\u001b[0m\n",
      "\u001b[1;31mUnicodeDecodeError\u001b[0m: 'utf-8' codec can't decode byte 0x89 in position 65: invalid start byte",
      "\nDuring handling of the above exception, another exception occurred:\n",
      "\u001b[1;31mUnicodeDecodeError\u001b[0m                        Traceback (most recent call last)",
      "\u001b[1;32m<ipython-input-55-e766ad5790fb>\u001b[0m in \u001b[0;36m<module>\u001b[1;34m()\u001b[0m\n\u001b[0;32m      1\u001b[0m \u001b[0mlink\u001b[0m \u001b[1;33m=\u001b[0m \u001b[1;34m\"C:/Users/David/Documents/GitHub/Data_Science_for_Software_Engineering/Project/training_list.csv\"\u001b[0m\u001b[1;33m\u001b[0m\u001b[0m\n\u001b[1;32m----> 2\u001b[1;33m \u001b[0mdf\u001b[0m \u001b[1;33m=\u001b[0m \u001b[0mpd\u001b[0m\u001b[1;33m.\u001b[0m\u001b[0mread_csv\u001b[0m\u001b[1;33m(\u001b[0m\u001b[0mlink\u001b[0m\u001b[1;33m,\u001b[0m\u001b[0merror_bad_lines\u001b[0m\u001b[1;33m=\u001b[0m\u001b[1;32mFalse\u001b[0m\u001b[1;33m)\u001b[0m\u001b[1;33m\u001b[0m\u001b[0m\n\u001b[0m\u001b[0;32m      3\u001b[0m \u001b[0mdf\u001b[0m\u001b[1;33m.\u001b[0m\u001b[0mcolumns\u001b[0m \u001b[1;33m=\u001b[0m \u001b[1;33m[\u001b[0m\u001b[1;34m'bug-id'\u001b[0m\u001b[1;33m,\u001b[0m \u001b[1;34m'bug'\u001b[0m\u001b[1;33m,\u001b[0m \u001b[1;34m'label'\u001b[0m\u001b[1;33m]\u001b[0m\u001b[1;33m\u001b[0m\u001b[0m\n\u001b[0;32m      4\u001b[0m \u001b[0mprint\u001b[0m\u001b[1;33m(\u001b[0m\u001b[0mdf\u001b[0m\u001b[1;33m.\u001b[0m\u001b[0mhead\u001b[0m\u001b[1;33m(\u001b[0m\u001b[1;36m100\u001b[0m\u001b[1;33m)\u001b[0m\u001b[1;33m)\u001b[0m\u001b[1;33m\u001b[0m\u001b[0m\n\u001b[0;32m      5\u001b[0m \u001b[0mdf_train_dev\u001b[0m \u001b[1;33m=\u001b[0m \u001b[0mdf\u001b[0m\u001b[1;33m[\u001b[0m\u001b[1;33m:\u001b[0m\u001b[1;36m7000\u001b[0m\u001b[1;33m]\u001b[0m\u001b[1;33m\u001b[0m\u001b[0m\n",
      "\u001b[1;32m~\\Anaconda3\\lib\\site-packages\\pandas\\io\\parsers.py\u001b[0m in \u001b[0;36mread_csv\u001b[1;34m(filepath_or_buffer, sep, delimiter, header, names, index_col, usecols, squeeze, prefix, mangle_dupe_cols, dtype, engine, converters, true_values, false_values, skipinitialspace, skiprows, skipfooter, nrows, na_values, keep_default_na, na_filter, verbose, skip_blank_lines, parse_dates, infer_datetime_format, keep_date_col, date_parser, dayfirst, cache_dates, iterator, chunksize, compression, thousands, decimal, lineterminator, quotechar, quoting, doublequote, escapechar, comment, encoding, dialect, error_bad_lines, warn_bad_lines, delim_whitespace, low_memory, memory_map, float_precision)\u001b[0m\n\u001b[0;32m    686\u001b[0m     )\n\u001b[0;32m    687\u001b[0m \u001b[1;33m\u001b[0m\u001b[0m\n\u001b[1;32m--> 688\u001b[1;33m     \u001b[1;32mreturn\u001b[0m \u001b[0m_read\u001b[0m\u001b[1;33m(\u001b[0m\u001b[0mfilepath_or_buffer\u001b[0m\u001b[1;33m,\u001b[0m \u001b[0mkwds\u001b[0m\u001b[1;33m)\u001b[0m\u001b[1;33m\u001b[0m\u001b[0m\n\u001b[0m\u001b[0;32m    689\u001b[0m \u001b[1;33m\u001b[0m\u001b[0m\n\u001b[0;32m    690\u001b[0m \u001b[1;33m\u001b[0m\u001b[0m\n",
      "\u001b[1;32m~\\Anaconda3\\lib\\site-packages\\pandas\\io\\parsers.py\u001b[0m in \u001b[0;36m_read\u001b[1;34m(filepath_or_buffer, kwds)\u001b[0m\n\u001b[0;32m    458\u001b[0m \u001b[1;33m\u001b[0m\u001b[0m\n\u001b[0;32m    459\u001b[0m     \u001b[1;32mtry\u001b[0m\u001b[1;33m:\u001b[0m\u001b[1;33m\u001b[0m\u001b[0m\n\u001b[1;32m--> 460\u001b[1;33m         \u001b[0mdata\u001b[0m \u001b[1;33m=\u001b[0m \u001b[0mparser\u001b[0m\u001b[1;33m.\u001b[0m\u001b[0mread\u001b[0m\u001b[1;33m(\u001b[0m\u001b[0mnrows\u001b[0m\u001b[1;33m)\u001b[0m\u001b[1;33m\u001b[0m\u001b[0m\n\u001b[0m\u001b[0;32m    461\u001b[0m     \u001b[1;32mfinally\u001b[0m\u001b[1;33m:\u001b[0m\u001b[1;33m\u001b[0m\u001b[0m\n\u001b[0;32m    462\u001b[0m         \u001b[0mparser\u001b[0m\u001b[1;33m.\u001b[0m\u001b[0mclose\u001b[0m\u001b[1;33m(\u001b[0m\u001b[1;33m)\u001b[0m\u001b[1;33m\u001b[0m\u001b[0m\n",
      "\u001b[1;32m~\\Anaconda3\\lib\\site-packages\\pandas\\io\\parsers.py\u001b[0m in \u001b[0;36mread\u001b[1;34m(self, nrows)\u001b[0m\n\u001b[0;32m   1196\u001b[0m     \u001b[1;32mdef\u001b[0m \u001b[0mread\u001b[0m\u001b[1;33m(\u001b[0m\u001b[0mself\u001b[0m\u001b[1;33m,\u001b[0m \u001b[0mnrows\u001b[0m\u001b[1;33m=\u001b[0m\u001b[1;32mNone\u001b[0m\u001b[1;33m)\u001b[0m\u001b[1;33m:\u001b[0m\u001b[1;33m\u001b[0m\u001b[0m\n\u001b[0;32m   1197\u001b[0m         \u001b[0mnrows\u001b[0m \u001b[1;33m=\u001b[0m \u001b[0m_validate_integer\u001b[0m\u001b[1;33m(\u001b[0m\u001b[1;34m\"nrows\"\u001b[0m\u001b[1;33m,\u001b[0m \u001b[0mnrows\u001b[0m\u001b[1;33m)\u001b[0m\u001b[1;33m\u001b[0m\u001b[0m\n\u001b[1;32m-> 1198\u001b[1;33m         \u001b[0mret\u001b[0m \u001b[1;33m=\u001b[0m \u001b[0mself\u001b[0m\u001b[1;33m.\u001b[0m\u001b[0m_engine\u001b[0m\u001b[1;33m.\u001b[0m\u001b[0mread\u001b[0m\u001b[1;33m(\u001b[0m\u001b[0mnrows\u001b[0m\u001b[1;33m)\u001b[0m\u001b[1;33m\u001b[0m\u001b[0m\n\u001b[0m\u001b[0;32m   1199\u001b[0m \u001b[1;33m\u001b[0m\u001b[0m\n\u001b[0;32m   1200\u001b[0m         \u001b[1;31m# May alter columns / col_dict\u001b[0m\u001b[1;33m\u001b[0m\u001b[1;33m\u001b[0m\u001b[0m\n",
      "\u001b[1;32m~\\Anaconda3\\lib\\site-packages\\pandas\\io\\parsers.py\u001b[0m in \u001b[0;36mread\u001b[1;34m(self, nrows)\u001b[0m\n\u001b[0;32m   2155\u001b[0m     \u001b[1;32mdef\u001b[0m \u001b[0mread\u001b[0m\u001b[1;33m(\u001b[0m\u001b[0mself\u001b[0m\u001b[1;33m,\u001b[0m \u001b[0mnrows\u001b[0m\u001b[1;33m=\u001b[0m\u001b[1;32mNone\u001b[0m\u001b[1;33m)\u001b[0m\u001b[1;33m:\u001b[0m\u001b[1;33m\u001b[0m\u001b[0m\n\u001b[0;32m   2156\u001b[0m         \u001b[1;32mtry\u001b[0m\u001b[1;33m:\u001b[0m\u001b[1;33m\u001b[0m\u001b[0m\n\u001b[1;32m-> 2157\u001b[1;33m             \u001b[0mdata\u001b[0m \u001b[1;33m=\u001b[0m \u001b[0mself\u001b[0m\u001b[1;33m.\u001b[0m\u001b[0m_reader\u001b[0m\u001b[1;33m.\u001b[0m\u001b[0mread\u001b[0m\u001b[1;33m(\u001b[0m\u001b[0mnrows\u001b[0m\u001b[1;33m)\u001b[0m\u001b[1;33m\u001b[0m\u001b[0m\n\u001b[0m\u001b[0;32m   2158\u001b[0m         \u001b[1;32mexcept\u001b[0m \u001b[0mStopIteration\u001b[0m\u001b[1;33m:\u001b[0m\u001b[1;33m\u001b[0m\u001b[0m\n\u001b[0;32m   2159\u001b[0m             \u001b[1;32mif\u001b[0m \u001b[0mself\u001b[0m\u001b[1;33m.\u001b[0m\u001b[0m_first_chunk\u001b[0m\u001b[1;33m:\u001b[0m\u001b[1;33m\u001b[0m\u001b[0m\n",
      "\u001b[1;32mpandas\\_libs\\parsers.pyx\u001b[0m in \u001b[0;36mpandas._libs.parsers.TextReader.read\u001b[1;34m()\u001b[0m\n",
      "\u001b[1;32mpandas\\_libs\\parsers.pyx\u001b[0m in \u001b[0;36mpandas._libs.parsers.TextReader._read_low_memory\u001b[1;34m()\u001b[0m\n",
      "\u001b[1;32mpandas\\_libs\\parsers.pyx\u001b[0m in \u001b[0;36mpandas._libs.parsers.TextReader._read_rows\u001b[1;34m()\u001b[0m\n",
      "\u001b[1;32mpandas\\_libs\\parsers.pyx\u001b[0m in \u001b[0;36mpandas._libs.parsers.TextReader._convert_column_data\u001b[1;34m()\u001b[0m\n",
      "\u001b[1;32mpandas\\_libs\\parsers.pyx\u001b[0m in \u001b[0;36mpandas._libs.parsers.TextReader._convert_tokens\u001b[1;34m()\u001b[0m\n",
      "\u001b[1;32mpandas\\_libs\\parsers.pyx\u001b[0m in \u001b[0;36mpandas._libs.parsers.TextReader._convert_with_dtype\u001b[1;34m()\u001b[0m\n",
      "\u001b[1;32mpandas\\_libs\\parsers.pyx\u001b[0m in \u001b[0;36mpandas._libs.parsers.TextReader._string_convert\u001b[1;34m()\u001b[0m\n",
      "\u001b[1;32mpandas\\_libs\\parsers.pyx\u001b[0m in \u001b[0;36mpandas._libs.parsers._string_box_utf8\u001b[1;34m()\u001b[0m\n",
      "\u001b[1;31mUnicodeDecodeError\u001b[0m: 'utf-8' codec can't decode byte 0x89 in position 65: invalid start byte"
     ]
    }
   ],
   "source": [
    "link = \"C:/Users/David/Documents/GitHub/Data_Science_for_Software_Engineering/Project/training_list.csv\"\n",
    "df = pd.read_csv(link)\n",
    "df.columns = ['bug-id', 'bug', 'label']\n",
    "print(df.head(100))\n",
    "df_train_dev = df[:7000]\n",
    "df_test = df[7000:]"
   ]
  },
  {
   "cell_type": "code",
   "execution_count": null,
   "metadata": {
    "colab": {
     "base_uri": "https://localhost:8080/"
    },
    "id": "KWTvXPPgiDzU",
    "outputId": "58b45ee4-6195-4fda-f8ee-ad36a88ef6c6"
   },
   "outputs": [],
   "source": [
    "print('Infos train-dev-set:')\n",
    "print(df_train_dev.info())\n",
    "print('Infos test-set:')\n",
    "print(df_test.info())"
   ]
  },
  {
   "cell_type": "code",
   "execution_count": null,
   "metadata": {
    "colab": {
     "base_uri": "https://localhost:8080/",
     "height": 204
    },
    "id": "h8lCjkb_kSOp",
    "outputId": "53afd811-d87c-47a0-a097-486927bf19c1"
   },
   "outputs": [],
   "source": [
    "df_train_dev.head()"
   ]
  },
  {
   "cell_type": "code",
   "execution_count": null,
   "metadata": {
    "colab": {
     "base_uri": "https://localhost:8080/"
    },
    "id": "p-K1HUEordhz",
    "outputId": "2b8d17c7-2175-4319-abd7-99f06d88e3b3"
   },
   "outputs": [],
   "source": [
    "print(df_train_dev.label.unique())"
   ]
  },
  {
   "cell_type": "code",
   "execution_count": null,
   "metadata": {
    "colab": {
     "base_uri": "https://localhost:8080/",
     "height": 382
    },
    "id": "mok54OinmXQw",
    "outputId": "19408f86-6111-403b-cd7f-9939b3d3eb70"
   },
   "outputs": [],
   "source": [
    "df_train_dev.groupby('label').size().sort_values(ascending = False).plot.bar(figsize=(20, 5))"
   ]
  },
  {
   "cell_type": "code",
   "execution_count": null,
   "metadata": {
    "colab": {
     "base_uri": "https://localhost:8080/"
    },
    "id": "3f24YMQAz44u",
    "outputId": "dcbfaa26-7282-4c2d-adc5-4200126d9ab2"
   },
   "outputs": [],
   "source": [
    "df_train_dev.groupby('label').size().sort_values(ascending = False)"
   ]
  },
  {
   "cell_type": "markdown",
   "metadata": {
    "id": "1qxb9qeRprB8"
   },
   "source": [
    "# Process labels"
   ]
  },
  {
   "cell_type": "code",
   "execution_count": null,
   "metadata": {
    "id": "8FwgxNUdngK1"
   },
   "outputs": [],
   "source": [
    "from sklearn.preprocessing import LabelEncoder\n",
    "le_fitted = LabelEncoder().fit(df_train_dev['label'])"
   ]
  },
  {
   "cell_type": "code",
   "execution_count": null,
   "metadata": {
    "colab": {
     "base_uri": "https://localhost:8080/"
    },
    "id": "2V6JkOLrn-75",
    "outputId": "bc49349d-2fd2-483d-a8ec-725f0a6cbffe"
   },
   "outputs": [],
   "source": [
    "# map all classes that are not in train_dev to undefined\n",
    "for i, label in enumerate(df_test['label']):\n",
    "    df_test['label'][i] = 'und' if label not in le_fitted.classes_ else label\n",
    "# check if it worked: should return an empty list\n",
    "print([label for label in df_test['label'] if label not in set(df_train_dev['label'])])"
   ]
  },
  {
   "cell_type": "code",
   "execution_count": null,
   "metadata": {
    "colab": {
     "base_uri": "https://localhost:8080/",
     "height": 600
    },
    "id": "Y4mGBukF1Dzu",
    "outputId": "77edc40d-ed9f-4a69-e5af-65b0f97d68c1"
   },
   "outputs": [],
   "source": [
    "df_train_dev['label'][:10]"
   ]
  },
  {
   "cell_type": "code",
   "execution_count": null,
   "metadata": {
    "id": "EV6KmRn4oOIF"
   },
   "outputs": [],
   "source": [
    "y_train_dev, y_test = le_fitted.transform(df_train_dev['label']), le_fitted.transform(df_test['label'])"
   ]
  },
  {
   "cell_type": "markdown",
   "metadata": {
    "id": "-0gShv_UsLiZ"
   },
   "source": [
    "# Preprocess bugs"
   ]
  },
  {
   "cell_type": "markdown",
   "metadata": {
    "id": "93UMrd5BtL-B"
   },
   "source": [
    "Pipeline classes:"
   ]
  },
  {
   "cell_type": "code",
   "execution_count": null,
   "metadata": {
    "id": "M6iOls7ib_-H"
   },
   "outputs": [],
   "source": [
    "from sklearn.base import BaseEstimator, TransformerMixin\n",
    "from sklearn.preprocessing import MinMaxScaler\n",
    "from sklearn.preprocessing import OneHotEncoder\n",
    "\n",
    "\n",
    "class TweetNormalizer(BaseEstimator, TransformerMixin):\n",
    "\n",
    "    def __init__(self):\n",
    "        pass\n",
    "    \n",
    "    def fit(self, X, y=None):\n",
    "        return self \n",
    "\n",
    "    def _normalize_tweet(self, tweet):\n",
    "        \"\"\"Remove punctuation and newlines, lowercase, pad with spaces.\n",
    "\n",
    "        :param tweet: string\n",
    "        :return: normalized string\n",
    "        \"\"\"\n",
    "        tweet = tweet.translate(str.maketrans('', '', string.punctuation))\n",
    "        tweet = re.sub(r'\\n', r'', tweet)\n",
    "        tweet = tweet.lower()\n",
    "        tweet = re.sub(r'@\\w+\\b', r'', tweet)\n",
    "        tweet = re.sub(r'\\b\\S+//\\S+\\b', r'', tweet)\n",
    "        # tweet = ' ' + tweet + ' '\n",
    "        return tweet\n",
    "    \n",
    "    def transform(self, X, y=None):\n",
    "        tweets = []\n",
    "        for tweet in X:\n",
    "            tweets.append(self._normalize_tweet(tweet))\n",
    "        return np.array(tweets)\n",
    "\n",
    "\n",
    "class FeatureExtractor(BaseEstimator, TransformerMixin):\n",
    "\n",
    "\n",
    "    vowels = set([c for c in 'aeiouäöüàéèëï'])\n",
    "    consonants = set([c for c in 'bcdfghklmnlpqrstvwxyz'])\n",
    "\n",
    "    def __init__(self):\n",
    "        self.scaler = MinMaxScaler()\n",
    "\n",
    "    def _to_bigrams(self, tweet):\n",
    "        return [bg[0] + bg[1] for bg in zip(tweet, tweet[1:])]\n",
    "\n",
    "    def _get_vowel_consonant_ratio(self, tweet):\n",
    "        vf = 0\n",
    "        cf = 0\n",
    "        for c in tweet.lower():\n",
    "            if c in self.vowels:\n",
    "                vf =+ 1\n",
    "            elif c in self.consonants:\n",
    "                cf += 1\n",
    "        return vf / (cf + 1)\n",
    "\n",
    "    def _get_capitalization_ratio(self, tweet):\n",
    "        up_count = 0\n",
    "        for c in tweet:\n",
    "            if c.upper() == c:\n",
    "                up_count += 1\n",
    "        return up_count / (len(tweet) + 1)\n",
    "\n",
    "    def _get_double_char_freq(self, tweet):\n",
    "        double_freq = 0\n",
    "        for bg in self._to_bigrams(tweet):\n",
    "            if bg[0] == bg[1]:\n",
    "                double_freq += 1\n",
    "        return double_freq\n",
    "    \n",
    "    def _extract_num_features(self, tweets):\n",
    "        num_features = []\n",
    "        for tweet in tweets:\n",
    "            feat_tweet = []\n",
    "            feat_tweet.append(self._get_vowel_consonant_ratio(tweet))\n",
    "            feat_tweet.append(self._get_capitalization_ratio(tweet))\n",
    "            feat_tweet.append(self._get_double_char_freq(tweet))\n",
    "            num_features.append(feat_tweet)\n",
    "        return np.array(num_features)\n",
    "    \n",
    "    def fit(self, X, y=None):\n",
    "        numerical_features = self._extract_num_features(X)\n",
    "        self.scaler.fit(numerical_features)\n",
    "        return self\n",
    "    \n",
    "    def transform(self, X, y=None):\n",
    "        numerical_features= self._extract_num_features(X)\n",
    "        return X, self.scaler.transform(numerical_features)\n",
    "\n",
    "\n",
    "class MatrixToArrayConverter1(BaseEstimator, TransformerMixin):\n",
    "\n",
    "    def __init__(self):\n",
    "        pass\n",
    "    \n",
    "    def fit(self, X, y=None):\n",
    "        return self\n",
    "    \n",
    "    def transform(self, X, y=None):\n",
    "        return X[0].toarray(), X[1]\n",
    "\n",
    "\n",
    "class MatrixUnifier(BaseEstimator, TransformerMixin):\n",
    "\n",
    "    def __init__(self):\n",
    "        pass\n",
    "    \n",
    "    def fit(self, X, y=None):\n",
    "        return self\n",
    "    \n",
    "    def transform(self, X, y=None):\n",
    "        return np.concatenate([X[0].todense(), X[1]], axis=1)\n",
    "\n",
    "\n",
    "class CountVectorizerWrapper:\n",
    "\n",
    "    def __init__(self, ngram_range, analyzer, max_features, binary):\n",
    "        print('args:', str([ngram_range, analyzer, max_features, binary]))\n",
    "        self.countvec = CountVectorizer(ngram_range=ngram_range, analyzer=analyzer, max_features=max_features, binary=binary)\n",
    "    \n",
    "    def fit(self, X, y=None):\n",
    "        tweets, numerical_features = X\n",
    "        self.countvec.fit(tweets)\n",
    "        return self\n",
    "    \n",
    "    def transform(self, X, y=None):\n",
    "        tweets, numerical_features = X\n",
    "        return self.countvec.transform(tweets), numerical_features\n",
    "\n",
    "\n",
    "class OneHotEncoderWrapper:\n",
    "\n",
    "    def __init__(self, handle_unknown):\n",
    "        self.ohe = OneHotEncoder(handle_unknown=handle_unknown)\n",
    "    \n",
    "    def fit(self, X, y=None):\n",
    "        self.ohe.fit(X[0])\n",
    "        return self\n",
    "    \n",
    "    def transform(self, X, y=None):\n",
    "        return self.ohe.transform(X[0]), X[1]\n"
   ]
  },
  {
   "cell_type": "markdown",
   "metadata": {
    "id": "s3gvmuUPtS5j"
   },
   "source": [
    "Helper classes for the pipeline:"
   ]
  },
  {
   "cell_type": "code",
   "execution_count": null,
   "metadata": {
    "id": "asuv2Ey8suTF"
   },
   "outputs": [],
   "source": [
    "class GenericClassifier(BaseEstimator):\n",
    "\n",
    "    def __init__(self, estimator):\n",
    "        self.clf = clf\n",
    "\n",
    "\n",
    "    def fit(self, X, y=None, **kwargs):\n",
    "        self.clf.fit(X, y)\n",
    "        return self\n",
    "\n",
    "\n",
    "    def predict(self, X, y=None):\n",
    "        return self.clf.predict(X)\n",
    "\n",
    "\n",
    "    def predict_proba(self, X):\n",
    "        return self.clf.predict_proba(X)\n",
    "\n",
    "\n",
    "    def score(self, X, y):\n",
    "        return self.clf.score(X, y)\n",
    "\n",
    "\n",
    "class Debug(BaseEstimator, TransformerMixin):\n",
    "\n",
    "    def transform(self, X):\n",
    "        import pdb; pdb.set_trace()\n",
    "        return X\n",
    "\n",
    "    def fit(self, X, y=None, **fit_params):\n",
    "        return self"
   ]
  },
  {
   "cell_type": "markdown",
   "metadata": {
    "id": "yerRC06qtabm"
   },
   "source": [
    "# GridSearch and Training"
   ]
  },
  {
   "cell_type": "code",
   "execution_count": null,
   "metadata": {
    "id": "uQq5eigQKi2D"
   },
   "outputs": [],
   "source": [
    "from sklearn.model_selection import GridSearchCV\n",
    "from sklearn.pipeline import Pipeline\n",
    "from sklearn.feature_extraction.text import CountVectorizer\n",
    "from sklearn.naive_bayes import MultinomialNB\n",
    "from sklearn.linear_model import SGDClassifier"
   ]
  },
  {
   "cell_type": "code",
   "execution_count": null,
   "metadata": {
    "id": "4pDxK9slayq3"
   },
   "outputs": [],
   "source": [
    "clf_param_grid = {\n",
    "    'MultinomialNB': [MultinomialNB, {'CLF__alpha': [0.1, 1]}],\n",
    "    'SGDClassifier': [SGDClassifier, {'CLF__loss': ['hinge', 'log'], 'CLF__penalty': ['l2', 'l1'], 'CLF__max_iter': [100, 300], 'CLF__early_stopping': [True, False]}]\n",
    "}"
   ]
  },
  {
   "cell_type": "code",
   "execution_count": null,
   "metadata": {
    "colab": {
     "base_uri": "https://localhost:8080/"
    },
    "id": "YOsRd7OoFUWn",
    "outputId": "1f616e78-2bbd-42bc-febe-97dd7bd2b30c"
   },
   "outputs": [],
   "source": [
    "models = []\n",
    "for clf_name in clf_param_grid:\n",
    "    print(30*'-')\n",
    "    print(clf_name)\n",
    "    param_grid = clf_param_grid[clf_name][1]\n",
    "    print(param_grid)\n",
    "    bigram_vec_args = dict(ngram_range=(2,2), analyzer='char_wb', max_features=100, binary=True)\n",
    "    pipe = Pipeline(steps=[\n",
    "        ('TweetNormalizer', TweetNormalizer()),\n",
    "        ('FeatureExtractor', FeatureExtractor()),\n",
    "        ('BigramVectorizer', CountVectorizerWrapper(**bigram_vec_args)),\n",
    "        ('MatrixToArrayConverter', MatrixToArrayConverter1()),\n",
    "        ('OneHotEncoder', OneHotEncoderWrapper(handle_unknown='ignore')),\n",
    "        ('MatrixUnifier', MatrixUnifier()),\n",
    "        ('CLF', clf_param_grid[clf_name][0]())\n",
    "    ], verbose=True)\n",
    "    grid = GridSearchCV(pipe, n_jobs=1, param_grid=param_grid, scoring='f1_micro', cv=10)\n",
    "    grid.fit(df_train_dev['bug'].to_numpy(), y_train_dev)\n",
    "    models.append(grid)"
   ]
  },
  {
   "cell_type": "markdown",
   "metadata": {
    "id": "aA3JAYJBDZxy"
   },
   "source": [
    "# Results"
   ]
  },
  {
   "cell_type": "markdown",
   "metadata": {
    "id": "RZHDby7NB7PW"
   },
   "source": [
    "Micro f1-Score of the naive base models on the dev set:"
   ]
  },
  {
   "cell_type": "code",
   "execution_count": null,
   "metadata": {
    "colab": {
     "base_uri": "https://localhost:8080/"
    },
    "id": "gDOlBtb2B4Nq",
    "outputId": "0389548c-2721-41d4-dc94-2df01b8de92c"
   },
   "outputs": [],
   "source": [
    "models[0].cv_results_"
   ]
  },
  {
   "cell_type": "markdown",
   "metadata": {
    "id": "WcqrfTK1Bcxd"
   },
   "source": [
    "Micro and macro f1-score of the best naive bayes model on the test set:"
   ]
  },
  {
   "cell_type": "code",
   "execution_count": null,
   "metadata": {
    "colab": {
     "base_uri": "https://localhost:8080/"
    },
    "id": "eIlAIaVnNHOU",
    "outputId": "a0323b54-78ef-42eb-c0b9-64f6e45ae3b1"
   },
   "outputs": [],
   "source": [
    "from sklearn.metrics import f1_score\n",
    "preds = models[0].predict(df_test['bug'].to_numpy())\n",
    "f1_micro = f1_score(preds, y_test, average='micro')\n",
    "f1_macro = f1_score(preds, y_test, average='macro')\n",
    "print(f'F1-micro-score on the testset: {f1_micro}')\n",
    "print(f'F1-macro-score on the testset: {f1_macro}')"
   ]
  },
  {
   "cell_type": "markdown",
   "metadata": {
    "id": "1RKO1bbsCDne"
   },
   "source": [
    "Micro f1-Score of the SGD models on the dev set:"
   ]
  },
  {
   "cell_type": "code",
   "execution_count": null,
   "metadata": {
    "colab": {
     "base_uri": "https://localhost:8080/"
    },
    "id": "FW-5WG9SBzyU",
    "outputId": "e5bde2da-07eb-487c-99fd-9f1b0b3c40e9"
   },
   "outputs": [],
   "source": [
    "models[1].cv_results_"
   ]
  },
  {
   "cell_type": "markdown",
   "metadata": {
    "id": "AlY-SAdYBmty"
   },
   "source": [
    "Accuracy of the best SGD model on the test set:"
   ]
  },
  {
   "cell_type": "code",
   "execution_count": null,
   "metadata": {
    "colab": {
     "base_uri": "https://localhost:8080/"
    },
    "id": "PEm-z0w3NiBf",
    "outputId": "170c4845-ac41-481f-edf7-bb14749328e8"
   },
   "outputs": [],
   "source": [
    "preds = models[1].predict(df_test['bug'].to_numpy())\n",
    "f1_micro = f1_score(preds, y_test, average='micro')\n",
    "f1_macro = f1_score(preds, y_test, average='macro')\n",
    "print(f'F1-micro-score on the testset: {f1_micro}')\n",
    "print(f'F1-macro-score on the testset: {f1_macro}')"
   ]
  },
  {
   "cell_type": "markdown",
   "metadata": {
    "id": "-kqDIw95Nsr2"
   },
   "source": [
    "Let's check the confusion matrix:"
   ]
  },
  {
   "cell_type": "code",
   "execution_count": null,
   "metadata": {
    "colab": {
     "base_uri": "https://localhost:8080/",
     "height": 173
    },
    "id": "Xeb6jHmeAeVK",
    "outputId": "30e164f5-f8b6-43f5-b02d-c5fac3747d8c"
   },
   "outputs": [],
   "source": [
    "num_classes = len(le_fitted.classes_)\n",
    "def create_confusion_matrix(num_classes, preds, y_test):\n",
    "    \"\"\"Create confusion matrix 'by hand' since test set does not contain all labels (thanks to Sarah Kiener).\"\"\"\n",
    "    df = pd.DataFrame(np.zeros((num_classes, num_classes), dtype=int))\n",
    "    for i, j in zip(preds, y_test):\n",
    "        df.iloc[i, j] += 1\n",
    "    df.columns = le_fitted.classes_\n",
    "    df.index = le_fitted.classes_\n",
    "    return df\n",
    "df = create_confusion_matrix(num_classes, preds, y_test)\n",
    "df"
   ]
  }
 ],
 "metadata": {
  "colab": {
   "collapsed_sections": [],
   "name": "dataseminar.ipynb",
   "provenance": [],
   "toc_visible": true
  },
  "kernelspec": {
   "display_name": "Python 3",
   "language": "python",
   "name": "python3"
  },
  "language_info": {
   "codemirror_mode": {
    "name": "ipython",
    "version": 3
   },
   "file_extension": ".py",
   "mimetype": "text/x-python",
   "name": "python",
   "nbconvert_exporter": "python",
   "pygments_lexer": "ipython3",
   "version": "3.7.0"
  }
 },
 "nbformat": 4,
 "nbformat_minor": 1
}
